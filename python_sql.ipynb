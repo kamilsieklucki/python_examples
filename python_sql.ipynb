{
 "cells": [
  {
   "cell_type": "code",
   "execution_count": 41,
   "metadata": {},
   "outputs": [],
   "source": [
    "# inspired by https://towardsdatascience.com/supercharging-ms-sql-server-with-python-e3335d11fa17\n",
    "import pyodbc\n",
    "from datetime import datetime"
   ]
  },
  {
   "cell_type": "code",
   "execution_count": 42,
   "metadata": {},
   "outputs": [],
   "source": [
    "class Sql:\n",
    "    def __init__(self, database, server=\"10.5.0.108\"):\n",
    "\n",
    "        # connection string\n",
    "        self.con = pyodbc.connect(\"Driver={SQL Server Native Client 11.0};\"\n",
    "                                   \"Server=\"+server+\";\"\n",
    "                                   \"Database=\"+database+\";\"\n",
    "                                   \"Trusted_Connection=yes;\")\n",
    "        \n",
    "    def query(self, query):\n",
    "        cur = self.con.cursor()  # create execution cursor        \n",
    "        try:\n",
    "            cur.execute(query)  # execute\n",
    "            for row in cur.fetchall():\n",
    "                print(row)\n",
    "        except pyodbc.ProgrammingError as error:\n",
    "            print(\"Warning:\\n{}\".format(error))  # print error as a warning\n",
    "\n",
    "        self.con.commit()  # commit query to SQL Server\n",
    "        return \"Query complete.\"\n"
   ]
  },
  {
   "cell_type": "code",
   "execution_count": 43,
   "metadata": {},
   "outputs": [],
   "source": [
    "sql = Sql(database = 'HurtowniaDanych')  # initialise the Sql object"
   ]
  },
  {
   "cell_type": "code",
   "execution_count": 44,
   "metadata": {},
   "outputs": [
    {
     "name": "stdout",
     "output_type": "stream",
     "text": [
      "(14174, '[BOIRON.NATRUM PHOSPHORICUM  15CH')\n",
      "(14175, '[BOIRON.NATRUM PHOSPHORICUM  30CH')\n",
      "(14176, 'BOIRON.NUX VOMICA   5CH 4G')\n",
      "(14177, 'BOIRON.PULSATILLA  30CH 4G')\n",
      "(14178, '[BOIRON.SYMPHYTUM OFFICINALE  5CH')\n",
      "(14179, '[BOIRON.TABACUM   9CH')\n",
      "(14180, 'BOIRON.KALIUM PHOSPHORICUM 30CH')\n",
      "(14181, 'SEROXAT 20MG * 30 TABL.           /GLAXO')\n",
      "(14182, '[RAJSTOPY P.TERESA UCISKOWE ROZM. S  BEŻ')\n",
      "(14183, '[RAJSTOPYP.TERESA P/REUMAT.ROZM.M    BEŻ')\n"
     ]
    },
    {
     "data": {
      "text/plain": [
       "'Query complete.'"
      ]
     },
     "execution_count": 44,
     "metadata": {},
     "output_type": "execute_result"
    }
   ],
   "source": [
    "sql.query(\"SELECT TOP 10 id_kartoteki, nazwa FROM BAS_Kartoteka\")"
   ]
  },
  {
   "cell_type": "code",
   "execution_count": null,
   "metadata": {},
   "outputs": [],
   "source": []
  }
 ],
 "metadata": {
  "kernelspec": {
   "display_name": "Python 3",
   "language": "python",
   "name": "python3"
  },
  "language_info": {
   "codemirror_mode": {
    "name": "ipython",
    "version": 3
   },
   "file_extension": ".py",
   "mimetype": "text/x-python",
   "name": "python",
   "nbconvert_exporter": "python",
   "pygments_lexer": "ipython3",
   "version": "3.6.8"
  }
 },
 "nbformat": 4,
 "nbformat_minor": 2
}
